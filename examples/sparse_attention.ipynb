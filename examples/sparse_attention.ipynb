{
 "cells": [
  {
   "cell_type": "code",
   "execution_count": 1,
   "metadata": {},
   "outputs": [],
   "source": [
    "import torch\n",
    "import sparta"
   ]
  },
  {
   "cell_type": "code",
   "execution_count": 2,
   "metadata": {},
   "outputs": [],
   "source": [
    "class SparseAttention(torch.nn.Module):\n",
    "\n",
    "    def __init__(self):\n",
    "        super().__init__()\n",
    "\n",
    "        self.linear_1 = torch.nn.Linear(5, 4)\n",
    "        self.relu_1 = torch.nn.ReLU()\n",
    "        linear_2 = torch.nn.Linear(4, 3)\n",
    "        mask_2 = sparta.testing.block_mask((3, 4))\n",
    "        self.linear_2 = sparta.nn.SparseLinear(linear_2, weight_mask=mask_2)\n",
    "        self.relu_2 = torch.nn.ReLU()\n",
    "        self.linear_3 = torch.nn.Linear(3, 2)\n",
    "        self.relu_3 = torch.nn.ReLU()\n",
    "\n",
    "    def forward(self, x):\n",
    "        x = self.linear_1(x)\n",
    "        x = self.relu_1(x)\n",
    "        x = self.linear_2(x)\n",
    "        x = self.relu_2(x)\n",
    "        x = self.linear_3(x)\n",
    "        x = self.relu_3(x)\n",
    "        return x"
   ]
  },
  {
   "cell_type": "code",
   "execution_count": 3,
   "metadata": {},
   "outputs": [
    {
     "name": "stdout",
     "output_type": "stream",
     "text": [
      "linear_1 [tensor([0.5992, 0.3768, 0.3546, 0.1790, 0.7523])] False\n",
      "relu_1 [tensor([ 0.3521,  0.2266, -0.0032, -0.0089], grad_fn=<AddBackward0>)] False\n",
      "linear_2 [tensor([0.3521, 0.2266, 0.0000, 0.0000], grad_fn=<ReluBackward0>)] True\n",
      "relu_2 [tensor([ 0.4600,  0.5990, -0.1697], grad_fn=<AddBackward0>)] False\n",
      "linear_3 [tensor([0.4600, 0.5990, 0.0000], grad_fn=<ReluBackward0>)] False\n",
      "relu_3 [tensor([ 0.1792, -0.2394], grad_fn=<AddBackward0>)] False\n"
     ]
    },
    {
     "name": "stderr",
     "output_type": "stream",
     "text": [
      "/home/cz/miniconda3/lib/python3.9/site-packages/SparTA-0.0.1a0-py3.9.egg/sparta/nn/module_tuner.py:33: UserWarning: ???\n",
      "  warnings.warn('???')\n"
     ]
    }
   ],
   "source": [
    "sparta.nn.tune(SparseAttention(), [torch.rand((5, ))])"
   ]
  },
  {
   "cell_type": "code",
   "execution_count": null,
   "metadata": {},
   "outputs": [],
   "source": []
  }
 ],
 "metadata": {
  "kernelspec": {
   "display_name": "Python 3.9.12 ('base')",
   "language": "python",
   "name": "python3"
  },
  "language_info": {
   "codemirror_mode": {
    "name": "ipython",
    "version": 3
   },
   "file_extension": ".py",
   "mimetype": "text/x-python",
   "name": "python",
   "nbconvert_exporter": "python",
   "pygments_lexer": "ipython3",
   "version": "3.9.12"
  },
  "orig_nbformat": 4,
  "vscode": {
   "interpreter": {
    "hash": "c99bec61b8d756e85fc9ab49e3e057e814a57dd126075c3faf7186dbd50957a9"
   }
  }
 },
 "nbformat": 4,
 "nbformat_minor": 2
}
