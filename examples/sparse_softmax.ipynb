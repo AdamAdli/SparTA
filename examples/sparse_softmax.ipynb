{
 "cells": [
  {
   "cell_type": "markdown",
   "metadata": {},
   "source": [
    "### Sparse Softmax Operator\n",
    "This is an example of how to create and tune a sparse softmax operator."
   ]
  },
  {
   "cell_type": "code",
   "execution_count": 1,
   "metadata": {},
   "outputs": [],
   "source": [
    "import torch\n",
    "import matplotlib.pyplot as plt\n",
    "import sparta"
   ]
  },
  {
   "cell_type": "markdown",
   "metadata": {},
   "source": [
    "First, determine the height (batch size) and width (dimensions) of the input tensor and create a dense softmax operator."
   ]
  },
  {
   "cell_type": "code",
   "execution_count": 2,
   "metadata": {},
   "outputs": [],
   "source": [
    "H, W = 1024, 1024\n",
    "dense_softmax = torch.nn.Softmax(dim=-1)"
   ]
  },
  {
   "cell_type": "markdown",
   "metadata": {},
   "source": [
    "Then generate a mask with block size $32\\times32$, in which 90% of blocks are empty. "
   ]
  },
  {
   "cell_type": "code",
   "execution_count": 3,
   "metadata": {},
   "outputs": [
    {
     "data": {
      "text/plain": [
       "<matplotlib.image.AxesImage at 0x7f1c32771df0>"
      ]
     },
     "execution_count": 3,
     "metadata": {},
     "output_type": "execute_result"
    },
    {
     "data": {
      "image/png": "[encoded data removed]",
      "text/plain": [
       "<Figure size 432x288 with 1 Axes>"
      ]
     },
     "metadata": {
      "needs_background": "light"
     },
     "output_type": "display_data"
    }
   ],
   "source": [
    "mask = sparta.testing.block_mask((H, W), block=(32, 32), sparsity=0.9).cuda()\n",
    "plt.imshow(mask.cpu().numpy())"
   ]
  },
  {
   "cell_type": "markdown",
   "metadata": {},
   "source": [
    "Create a ```sparta.nn.SparseSoftmax``` operator using the dense operator and the mask.\n",
    "\n",
    "Next, tune the sparse operator using a sample input (to determine the shape). This step may take several minutes."
   ]
  },
  {
   "cell_type": "code",
   "execution_count": 4,
   "metadata": {},
   "outputs": [
    {
     "name": "stdout",
     "output_type": "stream",
     "text": [
      "==================== Tuning ====================\n",
      "----- Implementation: sparta; Search space: 64 -----\n",
      "#1: ROW_TILE_VALUE=4, BLOCK_SIZE_W_VALUE=8, BLOCK_SIZE_H_VALUE=8\n",
      "Latency: 0.031027 ms\n",
      "#2: ROW_TILE_VALUE=4, BLOCK_SIZE_W_VALUE=8, BLOCK_SIZE_H_VALUE=16\n",
      "Latency: 0.031037 ms\n",
      "#3: ROW_TILE_VALUE=4, BLOCK_SIZE_W_VALUE=8, BLOCK_SIZE_H_VALUE=32\n",
      "Latency: 0.031306 ms\n",
      "#4: ROW_TILE_VALUE=4, BLOCK_SIZE_W_VALUE=8, BLOCK_SIZE_H_VALUE=64\n",
      "An error occured\n",
      "#5: ROW_TILE_VALUE=4, BLOCK_SIZE_W_VALUE=16, BLOCK_SIZE_H_VALUE=8\n",
      "Latency: 0.019574 ms\n",
      "#6: ROW_TILE_VALUE=4, BLOCK_SIZE_W_VALUE=16, BLOCK_SIZE_H_VALUE=16\n",
      "Latency: 0.019741 ms\n",
      "#7: ROW_TILE_VALUE=4, BLOCK_SIZE_W_VALUE=16, BLOCK_SIZE_H_VALUE=32\n",
      "Latency: 0.02032 ms\n",
      "#8: ROW_TILE_VALUE=4, BLOCK_SIZE_W_VALUE=16, BLOCK_SIZE_H_VALUE=64\n",
      "An error occured\n",
      "#9: ROW_TILE_VALUE=4, BLOCK_SIZE_W_VALUE=32, BLOCK_SIZE_H_VALUE=8\n",
      "Latency: 0.014678 ms\n",
      "#10: ROW_TILE_VALUE=4, BLOCK_SIZE_W_VALUE=32, BLOCK_SIZE_H_VALUE=16\n",
      "Latency: 0.015094 ms\n",
      "#11: ROW_TILE_VALUE=4, BLOCK_SIZE_W_VALUE=32, BLOCK_SIZE_H_VALUE=32\n",
      "Latency: 0.01607 ms\n",
      "#12: ROW_TILE_VALUE=4, BLOCK_SIZE_W_VALUE=32, BLOCK_SIZE_H_VALUE=64\n",
      "An error occured\n",
      "#13: ROW_TILE_VALUE=4, BLOCK_SIZE_W_VALUE=64, BLOCK_SIZE_H_VALUE=8\n",
      "An error occured\n",
      "#14: ROW_TILE_VALUE=4, BLOCK_SIZE_W_VALUE=64, BLOCK_SIZE_H_VALUE=16\n",
      "An error occured\n",
      "#15: ROW_TILE_VALUE=4, BLOCK_SIZE_W_VALUE=64, BLOCK_SIZE_H_VALUE=32\n",
      "An error occured\n",
      "#16: ROW_TILE_VALUE=4, BLOCK_SIZE_W_VALUE=64, BLOCK_SIZE_H_VALUE=64\n",
      "An error occured\n",
      "#17: ROW_TILE_VALUE=8, BLOCK_SIZE_W_VALUE=8, BLOCK_SIZE_H_VALUE=8\n",
      "Invalid config\n",
      "#18: ROW_TILE_VALUE=8, BLOCK_SIZE_W_VALUE=8, BLOCK_SIZE_H_VALUE=16\n",
      "Latency: 0.031878 ms\n",
      "#19: ROW_TILE_VALUE=8, BLOCK_SIZE_W_VALUE=8, BLOCK_SIZE_H_VALUE=32\n",
      "Latency: 0.031843 ms\n",
      "#20: ROW_TILE_VALUE=8, BLOCK_SIZE_W_VALUE=8, BLOCK_SIZE_H_VALUE=64\n",
      "An error occured\n",
      "#21: ROW_TILE_VALUE=8, BLOCK_SIZE_W_VALUE=16, BLOCK_SIZE_H_VALUE=8\n",
      "Invalid config\n",
      "#22: ROW_TILE_VALUE=8, BLOCK_SIZE_W_VALUE=16, BLOCK_SIZE_H_VALUE=16\n",
      "Latency: 0.019728 ms\n",
      "#23: ROW_TILE_VALUE=8, BLOCK_SIZE_W_VALUE=16, BLOCK_SIZE_H_VALUE=32\n",
      "Latency: 0.020336 ms\n",
      "#24: ROW_TILE_VALUE=8, BLOCK_SIZE_W_VALUE=16, BLOCK_SIZE_H_VALUE=64\n",
      "An error occured\n",
      "#25: ROW_TILE_VALUE=8, BLOCK_SIZE_W_VALUE=32, BLOCK_SIZE_H_VALUE=8\n",
      "Invalid config\n",
      "#26: ROW_TILE_VALUE=8, BLOCK_SIZE_W_VALUE=32, BLOCK_SIZE_H_VALUE=16\n",
      "Latency: 0.015421 ms\n",
      "#27: ROW_TILE_VALUE=8, BLOCK_SIZE_W_VALUE=32, BLOCK_SIZE_H_VALUE=32\n",
      "Latency: 0.016496 ms\n",
      "#28: ROW_TILE_VALUE=8, BLOCK_SIZE_W_VALUE=32, BLOCK_SIZE_H_VALUE=64\n"
     ]
    }
   ],
   "source": [
    "x = torch.rand((H, W)).cuda()\n",
    "sparse_softmax = sparta.nn.SparseSoftmax(dense_softmax, mask=mask)\n",
    "sparta.nn.tune(sparse_softmax, sample_inputs=[x])"
   ]
  },
  {
   "cell_type": "markdown",
   "metadata": {},
   "source": [
    "The sparse softmax operator is ready to use. Let's compare it with the dense operator."
   ]
  },
  {
   "cell_type": "code",
   "execution_count": null,
   "metadata": {},
   "outputs": [
    {
     "name": "stdout",
     "output_type": "stream",
     "text": [
      "Dense linear operator latency: 0.047839999198913574 ms\n",
      "Sparse linear operator latency: 0.08195199966430664 ms\n"
     ]
    }
   ],
   "source": [
    "dense_latency = sparta.testing.test_latency(dense_softmax, inputs=[x])\n",
    "print(f'Dense linear operator latency: {dense_latency} ms')\n",
    "sparse_latency = sparta.testing.test_latency(sparse_softmax, inputs=[x])\n",
    "print(f'Sparse linear operator latency: {sparse_latency} ms')"
   ]
  }
 ],
 "metadata": {
  "kernelspec": {
   "display_name": "Python 3.9.12 ('base')",
   "language": "python",
   "name": "python3"
  },
  "language_info": {
   "codemirror_mode": {
    "name": "ipython",
    "version": 3
   },
   "file_extension": ".py",
   "mimetype": "text/x-python",
   "name": "python",
   "nbconvert_exporter": "python",
   "pygments_lexer": "ipython3",
   "version": "3.9.12"
  },
  "orig_nbformat": 4,
  "vscode": {
   "interpreter": {
    "hash": "c99bec61b8d756e85fc9ab49e3e057e814a57dd126075c3faf7186dbd50957a9"
   }
  }
 },
 "nbformat": 4,
 "nbformat_minor": 2
}
